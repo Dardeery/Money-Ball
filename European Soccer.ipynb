{
 "cells": [
  {
   "cell_type": "markdown",
   "metadata": {},
   "source": [
    "# European Soccer Dataset analysis"
   ]
  },
  {
   "cell_type": "markdown",
   "metadata": {},
   "source": [
    "This soccer database comes from Kaggle and is well suited for data analysis and machine learning. \n",
    "It contains data for soccer matches, players, and teams from several European countries from 2008 to 2016.\n",
    "This dataset is quite extensive, and we encourage you to read more about it here.\n",
    "\n",
    "* The database is stored in a SQLite database. You can access database files using soware like DB Browser.\n",
    "* This dataset will help you get good practice with your SQL joins. Make sure to look at how the dierent tables relate to each other.\n",
    "* Some column titles should be self-explanatory, and others you’ll have to look up on Kaggle"
   ]
  },
  {
   "cell_type": "markdown",
   "metadata": {},
   "source": [
    "#### questions \n",
    "\n",
    "1. What teams improved the most over the time period? \n",
    "2. Which players had the most penalties?\n",
    "3. What team attributes lead to the most victories?"
   ]
  },
  {
   "cell_type": "code",
   "execution_count": 20,
   "metadata": {},
   "outputs": [],
   "source": [
    "# importing libraries\n",
    "import sqlite3\n",
    "from sqlite3 import Error"
   ]
  },
  {
   "cell_type": "code",
   "execution_count": 21,
   "metadata": {},
   "outputs": [
    {
     "name": "stdout",
     "output_type": "stream",
     "text": [
      " Datentr„ger in Laufwerk C: ist Windows\n",
      " Volumeseriennummer: 9CA1-0B37\n",
      "\n",
      " Verzeichnis von C:\\Users\\dardeer\\Desktop\\job application\\test\\Udacity [advanced]\n",
      "\n",
      "02/09/2021  11:58 PM    <DIR>          .\n",
      "02/09/2021  11:58 PM    <DIR>          ..\n",
      "02/09/2021  11:52 PM    <DIR>          .ipynb_checkpoints\n",
      "02/09/2021  11:35 PM        34,297,253 archive.zip\n",
      "02/04/2021  11:17 PM    <DIR>          bike sharing project\n",
      "09/19/2019  09:23 AM       313,090,048 database.sqlite\n",
      "02/09/2021  11:43 PM        15,831,040 DB.Browser.for.SQLite-3.12.1-win32-v2.msi\n",
      "02/09/2021  11:58 PM             7,704 European Soccer.ipynb\n",
      "               4 Datei(en),    363,226,045 Bytes\n",
      "               4 Verzeichnis(se), 28,370,399,232 Bytes frei\n"
     ]
    }
   ],
   "source": [
    "ls"
   ]
  },
  {
   "cell_type": "markdown",
   "metadata": {},
   "source": [
    "##### establish connection between SQLite and Python"
   ]
  },
  {
   "cell_type": "code",
   "execution_count": 22,
   "metadata": {},
   "outputs": [],
   "source": [
    "def create_connection(db_file):\n",
    "    \"\"\" create a database connection to the SQLite database\n",
    "        specified by the db_file\n",
    "    :param db_file: database file\n",
    "    :return: Connection object or None\n",
    "    \"\"\"\n",
    "    conn = None\n",
    "    try:\n",
    "        conn = sqlite3.connect(db_file)\n",
    "    except Error as e:\n",
    "        print(e)\n",
    "\n",
    "    return conn"
   ]
  },
  {
   "cell_type": "code",
   "execution_count": 23,
   "metadata": {},
   "outputs": [],
   "source": [
    "# create curser object "
   ]
  },
  {
   "cell_type": "code",
   "execution_count": 24,
   "metadata": {},
   "outputs": [],
   "source": [
    "def select_all_tasks(conn):\n",
    "    \"\"\"\n",
    "    Query all rows in the tasks table\n",
    "    :param conn: the Connection object\n",
    "    :return:\n",
    "    \"\"\"\n",
    "    cur = conn.cursor()\n",
    "    cur.execute(\"SELECT * FROM Country\")\n",
    "\n",
    "    rows = cur.fetchall()\n",
    "\n",
    "    for row in rows:\n",
    "        print(row)"
   ]
  },
  {
   "cell_type": "code",
   "execution_count": 31,
   "metadata": {},
   "outputs": [],
   "source": [
    "def select_task_by_priority(conn, priority):\n",
    "    \"\"\"\n",
    "    Query tasks by priority\n",
    "    :param conn: the Connection object\n",
    "    :param priority:\n",
    "    :return:\n",
    "    \"\"\"\n",
    "    cur = conn.cursor()\n",
    "    cur.execute(\"SELECT * FROM Country\", (priority,))\n",
    "\n",
    "    rows = cur.fetchall()\n",
    "\n",
    "    for row in rows:\n",
    "        print(row)"
   ]
  },
  {
   "cell_type": "code",
   "execution_count": 32,
   "metadata": {},
   "outputs": [],
   "source": [
    "# execute select statement"
   ]
  },
  {
   "cell_type": "code",
   "execution_count": 34,
   "metadata": {},
   "outputs": [
    {
     "name": "stdout",
     "output_type": "stream",
     "text": [
      "2. Query all tasks\n",
      "(1, 'Belgium')\n",
      "(1729, 'England')\n",
      "(4769, 'France')\n",
      "(7809, 'Germany')\n",
      "(10257, 'Italy')\n",
      "(13274, 'Netherlands')\n",
      "(15722, 'Poland')\n",
      "(17642, 'Portugal')\n",
      "(19694, 'Scotland')\n",
      "(21518, 'Spain')\n",
      "(24558, 'Switzerland')\n"
     ]
    }
   ],
   "source": [
    "def main():\n",
    "    database = r\"database.sqlite\"\n",
    "\n",
    "    # create a database connection\n",
    "    conn = create_connection(database)\n",
    "    with conn:\n",
    "       # print(\"1. Query task by priority:\")\n",
    "       # select_task_by_priority(conn, 1)\n",
    "\n",
    "        print(\"2. Query all tasks\")\n",
    "        select_all_tasks(conn)\n",
    "\n",
    "\n",
    "if __name__ == '__main__':\n",
    "    main()"
   ]
  },
  {
   "cell_type": "code",
   "execution_count": null,
   "metadata": {},
   "outputs": [],
   "source": []
  },
  {
   "cell_type": "code",
   "execution_count": null,
   "metadata": {},
   "outputs": [],
   "source": []
  },
  {
   "cell_type": "code",
   "execution_count": null,
   "metadata": {},
   "outputs": [],
   "source": []
  }
 ],
 "metadata": {
  "kernelspec": {
   "display_name": "Python 3",
   "language": "python",
   "name": "python3"
  },
  "language_info": {
   "codemirror_mode": {
    "name": "ipython",
    "version": 3
   },
   "file_extension": ".py",
   "mimetype": "text/x-python",
   "name": "python",
   "nbconvert_exporter": "python",
   "pygments_lexer": "ipython3",
   "version": "3.7.6"
  }
 },
 "nbformat": 4,
 "nbformat_minor": 4
}
